{
 "cells": [
  {
   "cell_type": "code",
   "execution_count": null,
   "metadata": {},
   "outputs": [],
   "source": [
    "file = h5open(\"Z:\\\\Pico.jl\\\\experiments\\\\transmon\\\\pi_y_test_gauss.h5\", \"r\")\n",
    "uks = read(file, \"uks\")\n",
    "total_time = read(file, \"total_time\")\n",
    "us = Vector{Float64}[]\n",
    "steps = size(uks,1)\n",
    "for i = 1:steps\n",
    "    push!(us, uks[i, :, 1])\n",
    "end\n",
    "us .*= 0.97"
   ]
  }
 ],
 "metadata": {
  "kernelspec": {
   "display_name": "Julia 1.8.3",
   "language": "julia",
   "name": "julia-1.8"
  },
  "language_info": {
   "file_extension": ".jl",
   "mimetype": "application/julia",
   "name": "julia",
   "version": "1.8.3"
  },
  "orig_nbformat": 4
 },
 "nbformat": 4,
 "nbformat_minor": 2
}

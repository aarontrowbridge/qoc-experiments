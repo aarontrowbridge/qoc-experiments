{
 "cells": [
  {
   "cell_type": "code",
   "execution_count": 5,
   "metadata": {},
   "outputs": [],
   "source": [
    "using NamedTrajectories\n",
    "using QuantumCollocation\n",
    "using IterativeLearningControl\n",
    "using JLD2\n",
    "using PyCall"
   ]
  },
  {
   "cell_type": "code",
   "execution_count": 7,
   "metadata": {},
   "outputs": [
    {
     "ename": "PyCall.PyError",
     "evalue": "PyError ($(Expr(:escape, :(ccall(#= /home/aaron/.julia/packages/PyCall/twYvK/src/pyeval.jl:38 =# @pysym(:PyEval_EvalCode), PyPtr, (PyPtr, PyPtr, PyPtr), o, globals, locals))))) <class 'ModuleNotFoundError'>\nModuleNotFoundError(\"No module named 'PulseSequence'\")\n  File \"pi_gate.py\", line 9, in <module>\n    from PulseSequence import PulseSequence\n",
     "output_type": "error",
     "traceback": [
      "PyError ($(Expr(:escape, :(ccall(#= /home/aaron/.julia/packages/PyCall/twYvK/src/pyeval.jl:38 =# @pysym(:PyEval_EvalCode), PyPtr, (PyPtr, PyPtr, PyPtr), o, globals, locals))))) <class 'ModuleNotFoundError'>\n",
      "ModuleNotFoundError(\"No module named 'PulseSequence'\")\n",
      "  File \"pi_gate.py\", line 9, in <module>\n",
      "    from PulseSequence import PulseSequence\n",
      "\n",
      "\n",
      "Stacktrace:\n",
      " [1] pyerr_check\n",
      "   @ ~/.julia/packages/PyCall/twYvK/src/exception.jl:75 [inlined]\n",
      " [2] pyerr_check\n",
      "   @ ~/.julia/packages/PyCall/twYvK/src/exception.jl:79 [inlined]\n",
      " [3] _handle_error(msg::String)\n",
      "   @ PyCall ~/.julia/packages/PyCall/twYvK/src/exception.jl:96\n",
      " [4] macro expansion\n",
      "   @ ~/.julia/packages/PyCall/twYvK/src/exception.jl:110 [inlined]\n",
      " [5] #117\n",
      "   @ ~/.julia/packages/PyCall/twYvK/src/pyeval.jl:38 [inlined]\n",
      " [6] disable_sigint\n",
      "   @ ./c.jl:473 [inlined]\n",
      " [7] pyeval_(s::String, globals::PyDict{String, PyObject, true}, locals::PyDict{String, PyObject, true}, input_type::Int64, fname::String)\n",
      "   @ PyCall ~/.julia/packages/PyCall/twYvK/src/pyeval.jl:37\n",
      " [8] top-level scope\n",
      "   @ ~/.julia/packages/PyCall/twYvK/src/pyeval.jl:252"
     ]
    }
   ],
   "source": [
    "@pyinclude \"pi_gate.py\""
   ]
  },
  {
   "cell_type": "code",
   "execution_count": 3,
   "metadata": {},
   "outputs": [
    {
     "name": "stderr",
     "output_type": "stream",
     "text": [
      "┌ Warning: type Main.#g_experiment does not exist in workspace; reconstructing\n",
      "└ @ JLD2 /home/aaron/.julia/packages/JLD2/ryhNR/src/data/reconstructing_datatypes.jl:403\n",
      "Error encountered while load FileIO.File{FileIO.DataFormat{:JLD2}, String}(\"data_ILC/pi_gate/pi_gate_ilc_R_val_0.1_problem_00000.jld2\")."
     ]
    },
    {
     "name": "stderr",
     "output_type": "stream",
     "text": [
      "\n",
      "\n",
      "Fatal error:\n"
     ]
    },
    {
     "ename": "CapturedException",
     "evalue": "MethodError: Cannot `convert` an object of type JLD2.ReconstructedTypes.var\"##Main.#g_experiment#342\" to an object of type Function\nClosest candidates are:\n  convert(::Type, !Matched::ManifoldsBase.AbstractManifold, !Matched::Any) at ~/.julia/packages/ManifoldsBase/74WVY/src/ManifoldsBase.jl:270\n  convert(::Type, !Matched::ManifoldsBase.AbstractManifold, !Matched::Any, !Matched::Any) at ~/.julia/packages/ManifoldsBase/74WVY/src/ManifoldsBase.jl:276\n  convert(::Type{T}, !Matched::T) where T at Base.jl:61\nStacktrace:\n  [1] rconvert(T::Type, x::JLD2.ReconstructedTypes.var\"##Main.#g_experiment#342\")\n    @ JLD2 ~/.julia/packages/JLD2/ryhNR/src/data/custom_serialization.jl:10\n  [2] jlconvert\n    @ ~/.julia/packages/JLD2/ryhNR/src/data/writing_datatypes.jl:315 [inlined]\n  [3] macro expansion\n    @ ~/.julia/packages/JLD2/ryhNR/src/data/reconstructing_datatypes.jl:628 [inlined]\n  [4] jlconvert(#unused#::JLD2.ReadRepresentation{QuantumHardwareExperiment, JLD2.OnDiskRepresentation{(0, 8, 16, 17, 25), Tuple{Function, Int64, Bool, AbstractVector{Int64}, Int64}, Tuple{JLD2.RelOffset, Int64, Bool, JLD2.RelOffset, Int64}, 33}()}, f::JLD2.JLDFile{JLD2.MmapIO}, ptr::Ptr{Nothing}, header_offset::JLD2.RelOffset)\n    @ JLD2 ~/.julia/packages/JLD2/ryhNR/src/data/reconstructing_datatypes.jl:547\n  [5] read_scalar(f::JLD2.JLDFile{JLD2.MmapIO}, rr::JLD2.ReadRepresentation{QuantumHardwareExperiment, JLD2.OnDiskRepresentation{(0, 8, 16, 17, 25), Tuple{Function, Int64, Bool, AbstractVector{Int64}, Int64}, Tuple{JLD2.RelOffset, Int64, Bool, JLD2.RelOffset, Int64}, 33}()}, header_offset::JLD2.RelOffset)\n    @ JLD2 ~/.julia/packages/JLD2/ryhNR/src/dataio.jl:37\n  [6] read_data(f::JLD2.JLDFile{JLD2.MmapIO}, rr::Any, read_dataspace::Tuple{JLD2.ReadDataspace, JLD2.RelOffset, JLD2.DataLayout, JLD2.FilterPipeline}, attributes::Vector{JLD2.ReadAttribute})\n    @ JLD2 ~/.julia/packages/JLD2/ryhNR/src/datasets.jl:238\n  [7] read_data(f::JLD2.JLDFile{JLD2.MmapIO}, dataspace::JLD2.ReadDataspace, datatype_class::UInt8, datatype_offset::Int64, layout::JLD2.DataLayout, filters::JLD2.FilterPipeline, header_offset::JLD2.RelOffset, attributes::Vector{JLD2.ReadAttribute})\n    @ JLD2 ~/.julia/packages/JLD2/ryhNR/src/datasets.jl:194\n  [8] load_dataset(f::JLD2.JLDFile{JLD2.MmapIO}, offset::JLD2.RelOffset)\n    @ JLD2 ~/.julia/packages/JLD2/ryhNR/src/datasets.jl:125\n  [9] jlconvert\n    @ ~/.julia/packages/JLD2/ryhNR/src/data/writing_datatypes.jl:314 [inlined]\n [10] macro expansion\n    @ ~/.julia/packages/JLD2/ryhNR/src/data/reconstructing_datatypes.jl:582 [inlined]\n [11] jlconvert(#unused#::JLD2.ReadRepresentation{ILCProblem, JLD2.OnDiskRepresentation{(0, 8, 16, 24, 25, 33, 41, 49, 65, 81, 82, 90, 98, 106, 130, 138, 146), Tuple{Any, Any, Any, Bool, Any, Any, Any, Symbol, Symbol, Bool, Any, Any, Any, DeterministicMeasurement, Any, Any, Dict{Symbol, Any}}, Tuple{JLD2.RelOffset, JLD2.RelOffset, JLD2.RelOffset, Bool, JLD2.RelOffset, JLD2.RelOffset, JLD2.RelOffset, JLD2.Vlen{String}, JLD2.Vlen{String}, Bool, JLD2.RelOffset, JLD2.RelOffset, JLD2.RelOffset, JLD2.OnDiskRepresentation{(0, 8, 16), Tuple{Vector{<:AbstractVector{Float64}}, AbstractVector{Int64}, Int64}, Tuple{JLD2.RelOffset, JLD2.RelOffset, Int64}, 24}(), JLD2.RelOffset, JLD2.RelOffset, JLD2.CustomSerialization{Array, JLD2.RelOffset}}, 154}()}, f::JLD2.JLDFile{JLD2.MmapIO}, ptr::Ptr{Nothing}, header_offset::JLD2.RelOffset)\n    @ JLD2 ~/.julia/packages/JLD2/ryhNR/src/data/reconstructing_datatypes.jl:547\n [12] read_scalar(f::JLD2.JLDFile{JLD2.MmapIO}, rr::JLD2.ReadRepresentation{ILCProblem, JLD2.OnDiskRepresentation{(0, 8, 16, 24, 25, 33, 41, 49, 65, 81, 82, 90, 98, 106, 130, 138, 146), Tuple{Any, Any, Any, Bool, Any, Any, Any, Symbol, Symbol, Bool, Any, Any, Any, DeterministicMeasurement, Any, Any, Dict{Symbol, Any}}, Tuple{JLD2.RelOffset, JLD2.RelOffset, JLD2.RelOffset, Bool, JLD2.RelOffset, JLD2.RelOffset, JLD2.RelOffset, JLD2.Vlen{String}, JLD2.Vlen{String}, Bool, JLD2.RelOffset, JLD2.RelOffset, JLD2.RelOffset, JLD2.OnDiskRepresentation{(0, 8, 16), Tuple{Vector{<:AbstractVector{Float64}}, AbstractVector{Int64}, Int64}, Tuple{JLD2.RelOffset, JLD2.RelOffset, Int64}, 24}(), JLD2.RelOffset, JLD2.RelOffset, JLD2.CustomSerialization{Array, JLD2.RelOffset}}, 154}()}, header_offset::JLD2.RelOffset)\n    @ JLD2 ~/.julia/packages/JLD2/ryhNR/src/dataio.jl:37\n [13] read_data(f::JLD2.JLDFile{JLD2.MmapIO}, rr::Any, read_dataspace::Tuple{JLD2.ReadDataspace, JLD2.RelOffset, JLD2.DataLayout, JLD2.FilterPipeline}, attributes::Vector{JLD2.ReadAttribute})\n    @ JLD2 ~/.julia/packages/JLD2/ryhNR/src/datasets.jl:238\n [14] read_data(f::JLD2.JLDFile{JLD2.MmapIO}, dataspace::JLD2.ReadDataspace, datatype_class::UInt8, datatype_offset::Int64, layout::JLD2.DataLayout, filters::JLD2.FilterPipeline, header_offset::JLD2.RelOffset, attributes::Vector{JLD2.ReadAttribute})\n    @ JLD2 ~/.julia/packages/JLD2/ryhNR/src/datasets.jl:194\n [15] load_dataset(f::JLD2.JLDFile{JLD2.MmapIO}, offset::JLD2.RelOffset)\n    @ JLD2 ~/.julia/packages/JLD2/ryhNR/src/datasets.jl:125\n [16] getindex(g::JLD2.Group{JLD2.JLDFile{JLD2.MmapIO}}, name::String)\n    @ JLD2 ~/.julia/packages/JLD2/ryhNR/src/groups.jl:109\n [17] getindex\n    @ ~/.julia/packages/JLD2/ryhNR/src/JLD2.jl:461 [inlined]\n [18] loadtodict!(d::Dict{String, Any}, g::JLD2.JLDFile{JLD2.MmapIO}, prefix::String)\n    @ JLD2 ~/.julia/packages/JLD2/ryhNR/src/loadsave.jl:154\n [19] loadtodict!\n    @ ~/.julia/packages/JLD2/ryhNR/src/loadsave.jl:153 [inlined]\n [20] (::JLD2.var\"#100#101\")(file::JLD2.JLDFile{JLD2.MmapIO})\n    @ JLD2 ~/.julia/packages/JLD2/ryhNR/src/fileio.jl:39\n [21] jldopen(::Function, ::String, ::Vararg{String}; kws::Base.Pairs{Symbol, Union{}, Tuple{}, NamedTuple{(), Tuple{}}})\n    @ JLD2 ~/.julia/packages/JLD2/ryhNR/src/loadsave.jl:4\n [22] jldopen\n    @ ~/.julia/packages/JLD2/ryhNR/src/loadsave.jl:1 [inlined]\n [23] #fileio_load#99\n    @ ~/.julia/packages/JLD2/ryhNR/src/fileio.jl:38 [inlined]\n [24] fileio_load(f::FileIO.File{FileIO.DataFormat{:JLD2}, String})\n    @ JLD2 ~/.julia/packages/JLD2/ryhNR/src/fileio.jl:37\n [25] #invokelatest#2\n    @ ./essentials.jl:729 [inlined]\n [26] invokelatest\n    @ ./essentials.jl:726 [inlined]\n [27] action(::Symbol, ::Vector{Union{Base.PkgId, Module}}, ::FileIO.Formatted; options::Base.Pairs{Symbol, Union{}, Tuple{}, NamedTuple{(), Tuple{}}})\n    @ FileIO ~/.julia/packages/FileIO/BE7iZ/src/loadsave.jl:219\n [28] action\n    @ ~/.julia/packages/FileIO/BE7iZ/src/loadsave.jl:196 [inlined]\n [29] action(::Symbol, ::Vector{Union{Base.PkgId, Module}}, ::Symbol, ::String; options::Base.Pairs{Symbol, Union{}, Tuple{}, NamedTuple{(), Tuple{}}})\n    @ FileIO ~/.julia/packages/FileIO/BE7iZ/src/loadsave.jl:185\n [30] action\n    @ ~/.julia/packages/FileIO/BE7iZ/src/loadsave.jl:185 [inlined]\n [31] load(::String; options::Base.Pairs{Symbol, Union{}, Tuple{}, NamedTuple{(), Tuple{}}})\n    @ FileIO ~/.julia/packages/FileIO/BE7iZ/src/loadsave.jl:113\n [32] load(::String)\n    @ FileIO ~/.julia/packages/FileIO/BE7iZ/src/loadsave.jl:109\n [33] top-level scope\n    @ ~/projects/qoc-experiments/experiments/QRAM/pi_gate_ilc.ipynb:1",
     "output_type": "error",
     "traceback": [
      "MethodError: Cannot `convert` an object of type JLD2.ReconstructedTypes.var\"##Main.#g_experiment#342\" to an object of type Function\n",
      "Closest candidates are:\n",
      "  convert(::Type, !Matched::ManifoldsBase.AbstractManifold, !Matched::Any) at ~/.julia/packages/ManifoldsBase/74WVY/src/ManifoldsBase.jl:270\n",
      "  convert(::Type, !Matched::ManifoldsBase.AbstractManifold, !Matched::Any, !Matched::Any) at ~/.julia/packages/ManifoldsBase/74WVY/src/ManifoldsBase.jl:276\n",
      "  convert(::Type{T}, !Matched::T) where T at Base.jl:61\n",
      "Stacktrace:\n",
      "  [1] rconvert(T::Type, x::JLD2.ReconstructedTypes.var\"##Main.#g_experiment#342\")\n",
      "    @ JLD2 ~/.julia/packages/JLD2/ryhNR/src/data/custom_serialization.jl:10\n",
      "  [2] jlconvert\n",
      "    @ ~/.julia/packages/JLD2/ryhNR/src/data/writing_datatypes.jl:315 [inlined]\n",
      "  [3] macro expansion\n",
      "    @ ~/.julia/packages/JLD2/ryhNR/src/data/reconstructing_datatypes.jl:628 [inlined]\n",
      "  [4] jlconvert(#unused#::JLD2.ReadRepresentation{QuantumHardwareExperiment, JLD2.OnDiskRepresentation{(0, 8, 16, 17, 25), Tuple{Function, Int64, Bool, AbstractVector{Int64}, Int64}, Tuple{JLD2.RelOffset, Int64, Bool, JLD2.RelOffset, Int64}, 33}()}, f::JLD2.JLDFile{JLD2.MmapIO}, ptr::Ptr{Nothing}, header_offset::JLD2.RelOffset)\n",
      "    @ JLD2 ~/.julia/packages/JLD2/ryhNR/src/data/reconstructing_datatypes.jl:547\n",
      "  [5] read_scalar(f::JLD2.JLDFile{JLD2.MmapIO}, rr::JLD2.ReadRepresentation{QuantumHardwareExperiment, JLD2.OnDiskRepresentation{(0, 8, 16, 17, 25), Tuple{Function, Int64, Bool, AbstractVector{Int64}, Int64}, Tuple{JLD2.RelOffset, Int64, Bool, JLD2.RelOffset, Int64}, 33}()}, header_offset::JLD2.RelOffset)\n",
      "    @ JLD2 ~/.julia/packages/JLD2/ryhNR/src/dataio.jl:37\n",
      "  [6] read_data(f::JLD2.JLDFile{JLD2.MmapIO}, rr::Any, read_dataspace::Tuple{JLD2.ReadDataspace, JLD2.RelOffset, JLD2.DataLayout, JLD2.FilterPipeline}, attributes::Vector{JLD2.ReadAttribute})\n",
      "    @ JLD2 ~/.julia/packages/JLD2/ryhNR/src/datasets.jl:238\n",
      "  [7] read_data(f::JLD2.JLDFile{JLD2.MmapIO}, dataspace::JLD2.ReadDataspace, datatype_class::UInt8, datatype_offset::Int64, layout::JLD2.DataLayout, filters::JLD2.FilterPipeline, header_offset::JLD2.RelOffset, attributes::Vector{JLD2.ReadAttribute})\n",
      "    @ JLD2 ~/.julia/packages/JLD2/ryhNR/src/datasets.jl:194\n",
      "  [8] load_dataset(f::JLD2.JLDFile{JLD2.MmapIO}, offset::JLD2.RelOffset)\n",
      "    @ JLD2 ~/.julia/packages/JLD2/ryhNR/src/datasets.jl:125\n",
      "  [9] jlconvert\n",
      "    @ ~/.julia/packages/JLD2/ryhNR/src/data/writing_datatypes.jl:314 [inlined]\n",
      " [10] macro expansion\n",
      "    @ ~/.julia/packages/JLD2/ryhNR/src/data/reconstructing_datatypes.jl:582 [inlined]\n",
      " [11] jlconvert(#unused#::JLD2.ReadRepresentation{ILCProblem, JLD2.OnDiskRepresentation{(0, 8, 16, 24, 25, 33, 41, 49, 65, 81, 82, 90, 98, 106, 130, 138, 146), Tuple{Any, Any, Any, Bool, Any, Any, Any, Symbol, Symbol, Bool, Any, Any, Any, DeterministicMeasurement, Any, Any, Dict{Symbol, Any}}, Tuple{JLD2.RelOffset, JLD2.RelOffset, JLD2.RelOffset, Bool, JLD2.RelOffset, JLD2.RelOffset, JLD2.RelOffset, JLD2.Vlen{String}, JLD2.Vlen{String}, Bool, JLD2.RelOffset, JLD2.RelOffset, JLD2.RelOffset, JLD2.OnDiskRepresentation{(0, 8, 16), Tuple{Vector{<:AbstractVector{Float64}}, AbstractVector{Int64}, Int64}, Tuple{JLD2.RelOffset, JLD2.RelOffset, Int64}, 24}(), JLD2.RelOffset, JLD2.RelOffset, JLD2.CustomSerialization{Array, JLD2.RelOffset}}, 154}()}, f::JLD2.JLDFile{JLD2.MmapIO}, ptr::Ptr{Nothing}, header_offset::JLD2.RelOffset)\n",
      "    @ JLD2 ~/.julia/packages/JLD2/ryhNR/src/data/reconstructing_datatypes.jl:547\n",
      " [12] read_scalar(f::JLD2.JLDFile{JLD2.MmapIO}, rr::JLD2.ReadRepresentation{ILCProblem, JLD2.OnDiskRepresentation{(0, 8, 16, 24, 25, 33, 41, 49, 65, 81, 82, 90, 98, 106, 130, 138, 146), Tuple{Any, Any, Any, Bool, Any, Any, Any, Symbol, Symbol, Bool, Any, Any, Any, DeterministicMeasurement, Any, Any, Dict{Symbol, Any}}, Tuple{JLD2.RelOffset, JLD2.RelOffset, JLD2.RelOffset, Bool, JLD2.RelOffset, JLD2.RelOffset, JLD2.RelOffset, JLD2.Vlen{String}, JLD2.Vlen{String}, Bool, JLD2.RelOffset, JLD2.RelOffset, JLD2.RelOffset, JLD2.OnDiskRepresentation{(0, 8, 16), Tuple{Vector{<:AbstractVector{Float64}}, AbstractVector{Int64}, Int64}, Tuple{JLD2.RelOffset, JLD2.RelOffset, Int64}, 24}(), JLD2.RelOffset, JLD2.RelOffset, JLD2.CustomSerialization{Array, JLD2.RelOffset}}, 154}()}, header_offset::JLD2.RelOffset)\n",
      "    @ JLD2 ~/.julia/packages/JLD2/ryhNR/src/dataio.jl:37\n",
      " [13] read_data(f::JLD2.JLDFile{JLD2.MmapIO}, rr::Any, read_dataspace::Tuple{JLD2.ReadDataspace, JLD2.RelOffset, JLD2.DataLayout, JLD2.FilterPipeline}, attributes::Vector{JLD2.ReadAttribute})\n",
      "    @ JLD2 ~/.julia/packages/JLD2/ryhNR/src/datasets.jl:238\n",
      " [14] read_data(f::JLD2.JLDFile{JLD2.MmapIO}, dataspace::JLD2.ReadDataspace, datatype_class::UInt8, datatype_offset::Int64, layout::JLD2.DataLayout, filters::JLD2.FilterPipeline, header_offset::JLD2.RelOffset, attributes::Vector{JLD2.ReadAttribute})\n",
      "    @ JLD2 ~/.julia/packages/JLD2/ryhNR/src/datasets.jl:194\n",
      " [15] load_dataset(f::JLD2.JLDFile{JLD2.MmapIO}, offset::JLD2.RelOffset)\n",
      "    @ JLD2 ~/.julia/packages/JLD2/ryhNR/src/datasets.jl:125\n",
      " [16] getindex(g::JLD2.Group{JLD2.JLDFile{JLD2.MmapIO}}, name::String)\n",
      "    @ JLD2 ~/.julia/packages/JLD2/ryhNR/src/groups.jl:109\n",
      " [17] getindex\n",
      "    @ ~/.julia/packages/JLD2/ryhNR/src/JLD2.jl:461 [inlined]\n",
      " [18] loadtodict!(d::Dict{String, Any}, g::JLD2.JLDFile{JLD2.MmapIO}, prefix::String)\n",
      "    @ JLD2 ~/.julia/packages/JLD2/ryhNR/src/loadsave.jl:154\n",
      " [19] loadtodict!\n",
      "    @ ~/.julia/packages/JLD2/ryhNR/src/loadsave.jl:153 [inlined]\n",
      " [20] (::JLD2.var\"#100#101\")(file::JLD2.JLDFile{JLD2.MmapIO})\n",
      "    @ JLD2 ~/.julia/packages/JLD2/ryhNR/src/fileio.jl:39\n",
      " [21] jldopen(::Function, ::String, ::Vararg{String}; kws::Base.Pairs{Symbol, Union{}, Tuple{}, NamedTuple{(), Tuple{}}})\n",
      "    @ JLD2 ~/.julia/packages/JLD2/ryhNR/src/loadsave.jl:4\n",
      " [22] jldopen\n",
      "    @ ~/.julia/packages/JLD2/ryhNR/src/loadsave.jl:1 [inlined]\n",
      " [23] #fileio_load#99\n",
      "    @ ~/.julia/packages/JLD2/ryhNR/src/fileio.jl:38 [inlined]\n",
      " [24] fileio_load(f::FileIO.File{FileIO.DataFormat{:JLD2}, String})\n",
      "    @ JLD2 ~/.julia/packages/JLD2/ryhNR/src/fileio.jl:37\n",
      " [25] #invokelatest#2\n",
      "    @ ./essentials.jl:729 [inlined]\n",
      " [26] invokelatest\n",
      "    @ ./essentials.jl:726 [inlined]\n",
      " [27] action(::Symbol, ::Vector{Union{Base.PkgId, Module}}, ::FileIO.Formatted; options::Base.Pairs{Symbol, Union{}, Tuple{}, NamedTuple{(), Tuple{}}})\n",
      "    @ FileIO ~/.julia/packages/FileIO/BE7iZ/src/loadsave.jl:219\n",
      " [28] action\n",
      "    @ ~/.julia/packages/FileIO/BE7iZ/src/loadsave.jl:196 [inlined]\n",
      " [29] action(::Symbol, ::Vector{Union{Base.PkgId, Module}}, ::Symbol, ::String; options::Base.Pairs{Symbol, Union{}, Tuple{}, NamedTuple{(), Tuple{}}})\n",
      "    @ FileIO ~/.julia/packages/FileIO/BE7iZ/src/loadsave.jl:185\n",
      " [30] action\n",
      "    @ ~/.julia/packages/FileIO/BE7iZ/src/loadsave.jl:185 [inlined]\n",
      " [31] load(::String; options::Base.Pairs{Symbol, Union{}, Tuple{}, NamedTuple{(), Tuple{}}})\n",
      "    @ FileIO ~/.julia/packages/FileIO/BE7iZ/src/loadsave.jl:113\n",
      " [32] load(::String)\n",
      "    @ FileIO ~/.julia/packages/FileIO/BE7iZ/src/loadsave.jl:109\n",
      " [33] top-level scope\n",
      "    @ ~/projects/qoc-experiments/experiments/QRAM/pi_gate_ilc.ipynb:1\n",
      "\n",
      "Stacktrace:\n",
      " [1] handle_error(e::MethodError, q::Base.PkgId, bt::Vector{Union{Ptr{Nothing}, Base.InterpreterIP}})\n",
      "   @ FileIO ~/.julia/packages/FileIO/BE7iZ/src/error_handling.jl:61\n",
      " [2] handle_exceptions(exceptions::Vector{Tuple{Any, Union{Base.PkgId, Module}, Vector}}, action::String)\n",
      "   @ FileIO ~/.julia/packages/FileIO/BE7iZ/src/error_handling.jl:56\n",
      " [3] action(::Symbol, ::Vector{Union{Base.PkgId, Module}}, ::FileIO.Formatted; options::Base.Pairs{Symbol, Union{}, Tuple{}, NamedTuple{(), Tuple{}}})\n",
      "   @ FileIO ~/.julia/packages/FileIO/BE7iZ/src/loadsave.jl:228\n",
      " [4] action\n",
      "   @ ~/.julia/packages/FileIO/BE7iZ/src/loadsave.jl:196 [inlined]\n",
      " [5] action(::Symbol, ::Vector{Union{Base.PkgId, Module}}, ::Symbol, ::String; options::Base.Pairs{Symbol, Union{}, Tuple{}, NamedTuple{(), Tuple{}}})\n",
      "   @ FileIO ~/.julia/packages/FileIO/BE7iZ/src/loadsave.jl:185\n",
      " [6] action\n",
      "   @ ~/.julia/packages/FileIO/BE7iZ/src/loadsave.jl:185 [inlined]\n",
      " [7] load(::String; options::Base.Pairs{Symbol, Union{}, Tuple{}, NamedTuple{(), Tuple{}}})\n",
      "   @ FileIO ~/.julia/packages/FileIO/BE7iZ/src/loadsave.jl:113\n",
      " [8] load(::String)\n",
      "   @ FileIO ~/.julia/packages/FileIO/BE7iZ/src/loadsave.jl:109\n",
      " [9] top-level scope\n",
      "   @ ~/projects/qoc-experiments/experiments/QRAM/pi_gate_ilc.ipynb:1"
     ]
    }
   ],
   "source": [
    "prob = load(\"data_ILC/pi_gate/pi_gate_ilc_R_val_0.1_problem_00000.jld2\")"
   ]
  },
  {
   "cell_type": "code",
   "execution_count": null,
   "metadata": {},
   "outputs": [],
   "source": []
  }
 ],
 "metadata": {
  "kernelspec": {
   "display_name": "Julia 1.8.5",
   "language": "julia",
   "name": "julia-1.8"
  },
  "language_info": {
   "file_extension": ".jl",
   "mimetype": "application/julia",
   "name": "julia",
   "version": "1.8.5"
  },
  "orig_nbformat": 4
 },
 "nbformat": 4,
 "nbformat_minor": 2
}
